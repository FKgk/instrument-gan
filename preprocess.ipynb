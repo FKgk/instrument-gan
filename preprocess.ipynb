{
 "cells": [
  {
   "cell_type": "code",
   "execution_count": null,
   "metadata": {},
   "outputs": [],
   "source": [
    "import matplotlib.pyplot as plt\n",
    "from scipy.io import wavfile\n",
    "import numpy as np\n",
    "import shutil\n",
    "import os"
   ]
  },
  {
   "cell_type": "code",
   "execution_count": null,
   "metadata": {},
   "outputs": [],
   "source": [
    "path = 'data'\n",
    "x_folder = 'marimba'\n",
    "y_folder = 'synthesizer'\n",
    "\n",
    "sec = 4\n",
    "samplerate = 44100\n",
    "batch_size = 10\n",
    "time_length = sec * samplerate"
   ]
  },
  {
   "cell_type": "code",
   "execution_count": null,
   "metadata": {},
   "outputs": [],
   "source": [
    "def count_data():\n",
    "    return min(len(os.listdir(os.path.join(path, x_folder))), len(os.listdir(os.path.join(path, y_folder))))\n",
    "\n",
    "def is_file(index):\n",
    "    return os.path.isfile(os.path.join(path, x_folder, str(index) + '.wav'))\n",
    "\n",
    "def read_wav_data(index):\n",
    "    x_samplerate, x_file = wavfile.read(os.path.join(path, x_folder, str(index)+'.wav'))\n",
    "    y_samplerate, y_file = wavfile.read(os.path.join(path, y_folder, str(index)+'.wav'))\n",
    "    \n",
    "    assert(x_samplerate == samplerate and y_samplerate == samplerate)\n",
    "\n",
    "    return np.array(x_file, dtype=float), np.array(y_file, dtype=float)\n",
    "\n",
    "def segment_data(x_train, y_train):\n",
    "    min_dataset = min(x_train.shape[0] // time_length, y_train.shape[0] // time_length)\n",
    "    time = min_dataset * time_length\n",
    "\n",
    "    x_train_segments = list()\n",
    "    y_train_segments = list()\n",
    "\n",
    "    x_train = x_train[:time, :]\n",
    "    y_train = y_train[:time, :]\n",
    "    \n",
    "    for i in range(1, min_dataset):\n",
    "        x_train_segments.append(x_train[(i-1)*time_length:i*time_length, :])\n",
    "        y_train_segments.append(y_train[(i-1)*time_length:i*time_length, :])\n",
    "    \n",
    "    return np.array(x_train_segments), np.array(y_train_segments)"
   ]
  },
  {
   "cell_type": "code",
   "execution_count": null,
   "metadata": {},
   "outputs": [],
   "source": [
    "process_path = \"process_data\"\n",
    "\n",
    "if not os.path.isdir(process_path):\n",
    "    os.makedirs(process_path)\n",
    "if not os.path.isdir(os.path.join(process_path, x_folder)):\n",
    "    os.makedirs(os.path.join(process_path, x_folder))\n",
    "if not os.path.isdir(os.path.join(process_path, y_folder)):\n",
    "    os.makedirs(os.path.join(process_path, y_folder))"
   ]
  },
  {
   "cell_type": "code",
   "execution_count": null,
   "metadata": {},
   "outputs": [],
   "source": [
    "# remove all prev data\n",
    "# shutil.rmtree(os.path.join(process_path))"
   ]
  },
  {
   "cell_type": "code",
   "execution_count": null,
   "metadata": {},
   "outputs": [],
   "source": [
    "for number in range(1, count_data() + 1):\n",
    "    x, y = read_wav_data(number)\n",
    "    x, y = segment_data(x, y)\n",
    "    \n",
    "    print(x.shape, y.shape)\n",
    "\n",
    "    for index, i in enumerate(range(0, x.shape[0], batch_size)):\n",
    "        np.save(os.path.join(process_path, x_folder, str(index) + \".npy\"), x[i:i+batch_size])\n",
    "        np.save(os.path.join(process_path, y_folder, str(index) + \".npy\"), y[i:i+batch_size])\n",
    "    \n",
    "    del x, y"
   ]
  },
  {
   "cell_type": "code",
   "execution_count": null,
   "metadata": {},
   "outputs": [],
   "source": []
  }
 ],
 "metadata": {
  "kernelspec": {
   "display_name": "Python 3",
   "language": "python",
   "name": "python3"
  },
  "language_info": {
   "codemirror_mode": {
    "name": "ipython",
    "version": 3
   },
   "file_extension": ".py",
   "mimetype": "text/x-python",
   "name": "python",
   "nbconvert_exporter": "python",
   "pygments_lexer": "ipython3",
   "version": "3.7.4"
  }
 },
 "nbformat": 4,
 "nbformat_minor": 2
}
